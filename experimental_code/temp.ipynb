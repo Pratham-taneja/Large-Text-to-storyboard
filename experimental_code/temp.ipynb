{
 "cells": [
  {
   "cell_type": "code",
   "execution_count": 1,
   "metadata": {},
   "outputs": [],
   "source": [
    "import os\n",
    "import shutil\n",
    "import sys"
   ]
  },
  {
   "cell_type": "code",
   "execution_count": 3,
   "metadata": {},
   "outputs": [
    {
     "name": "stdout",
     "output_type": "stream",
     "text": [
      "fairy_tale the peasants wise daughter\n"
     ]
    },
    {
     "ename": "SystemExit",
     "evalue": "",
     "output_type": "error",
     "traceback": [
      "An exception has occurred, use %tb to see the full traceback.\n",
      "\u001b[0;31mSystemExit\u001b[0m\n"
     ]
    },
    {
     "name": "stderr",
     "output_type": "stream",
     "text": [
      "/home/aditi/miniconda3/envs/genai/lib/python3.11/site-packages/IPython/core/interactiveshell.py:3513: UserWarning: To exit: use 'exit', 'quit', or Ctrl-D.\n",
      "  warn(\"To exit: use 'exit', 'quit', or Ctrl-D.\", stacklevel=1)\n"
     ]
    }
   ],
   "source": [
    "stories = {}\n",
    "source_folder = \"../data/clean_dataset\"\n",
    "\n",
    "dir_paths = []\n",
    "original_stories = []\n",
    "story_names = []\n",
    "story_types = []\n",
    "\n",
    "for dir_name in os.listdir(source_folder):\n",
    "    \n",
    "    if not dir_name.startswith(\".DS_Store\"):\n",
    "        dir_path = os.path.join(source_folder, dir_name)\n",
    "        dir_paths.append(dir_path)\n",
    "        for dir_path in dir_paths:\n",
    "            for story_name in os.listdir(dir_path):\n",
    "                if not story_name.startswith(\".DS_Store\"):\n",
    "                    # print(dir_name, story_name)\n",
    "                    # sys.exit()\n",
    "                    story_types.append(dir_name)\n",
    "                    story_names.append(story_name)\n",
    "                    story_path = os.path.join(dir_path, story_name)\n",
    "                    file_path = story_path + \"/story.txt\"\n",
    "                    with open(file_path, 'r') as file:\n",
    "                        file_content = file.read()\n",
    "                    original_stories.append(file_content)\n",
    "\n",
    "stories[\"original_story\"] = original_stories\n",
    "stories[\"story_name\"] = story_names\n",
    "stories[\"story type\"] = story_types\n"
   ]
  },
  {
   "cell_type": "code",
   "execution_count": 4,
   "metadata": {},
   "outputs": [
    {
     "name": "stderr",
     "output_type": "stream",
     "text": [
      "[nltk_data] Downloading package punkt to /home/aditi/nltk_data...\n",
      "[nltk_data]   Package punkt is already up-to-date!\n",
      "[nltk_data] Downloading package stopwords to /home/aditi/nltk_data...\n",
      "[nltk_data]   Package stopwords is already up-to-date!\n"
     ]
    },
    {
     "name": "stdout",
     "output_type": "stream",
     "text": [
      "Cleaning segments\n"
     ]
    },
    {
     "name": "stderr",
     "output_type": "stream",
     "text": [
      "556it [02:40,  3.47it/s]"
     ]
    },
    {
     "name": "stdout",
     "output_type": "stream",
     "text": [
      "segmentation works 380\n",
      "segmentation doesn't work 176\n"
     ]
    },
    {
     "name": "stderr",
     "output_type": "stream",
     "text": [
      "\n"
     ]
    }
   ],
   "source": [
    "import os\n",
    "from utils import read_data\n",
    "from segmentation import generateSegments, generateSummaries\n",
    "os.environ['CUDA_VISIBLE_DEVICES']='0'\n",
    "import nltk\n",
    "nltk.download('punkt')  # For tokenization\n",
    "nltk.download('stopwords')\n",
    "from nltk.tokenize import TextTilingTokenizer\n",
    "\n",
    "data_folder= \"../data/clean_dataset\"\n",
    "df = read_data(data_folder)\n",
    "\n",
    "df = generateSegments(df)\n",
    "summarizer_model_id = \"sshleifer/distilbart-xsum-12-6\"\n",
    "df = generateSummaries(df, summarizer_model_id)"
   ]
  },
  {
   "cell_type": "code",
   "execution_count": 11,
   "metadata": {},
   "outputs": [
    {
     "name": "stdout",
     "output_type": "stream",
     "text": [
      "214 166\n"
     ]
    }
   ],
   "source": [
    "\n",
    "f =0\n",
    "s =0\n",
    "for idx,row in df.iterrows():\n",
    "    if len(row[\"segmented_story\"]) > 0:\n",
    "        if row[\"story_type\"] == \"fairy_tale\":\n",
    "            f+=1\n",
    "        else:\n",
    "            s+=1\n",
    "print(f,s)\n",
    "df.to_csv(\"../data/dataset_info.csv\", sep='\\t')"
   ]
  },
  {
   "cell_type": "code",
   "execution_count": 10,
   "metadata": {},
   "outputs": [],
   "source": [
    "#generate segment wise data for baseline\n",
    "\n",
    "destination_folder = \"../data/baseline0_dataset_segment_wise/\"\n",
    "\n",
    "for index,row in df.iterrows():\n",
    "    if len(row[\"segmented_story\"]) > 0:\n",
    "        segments = row[\"segmented_story\"]\n",
    "        for idx, segment in enumerate(segments):\n",
    "            story_type = row[\"story_type\"]\n",
    "            file_name = row[\"story_name\"] + \"_segment_\" + str(idx)\n",
    "            with open(destination_folder+story_type+\"/\"+file_name+\".txt\", \"w\") as file:\n",
    "                file.write(segment)"
   ]
  },
  {
   "cell_type": "code",
   "execution_count": 49,
   "metadata": {},
   "outputs": [
    {
     "name": "stdout",
     "output_type": "stream",
     "text": [
      "SEGMENT: 0 The wife of a rich man fell sick, and as she felt that her end was drawing near, she called her only daughter to her bedside and said,  Thereupon she closed her eyes and departed. Every day the maiden went out to her mother's grave, and wept, and she remained pious and good. When winter came the snow spread a white sheet over the grave, and when the spring sun had drawn it off again, the man had taken another wife.\n",
      "SUMMARY: 0  A tale of a young girl's true devotion to God goes back a long way in history.\n",
      "SEGMENT: 1 The woman had brought two daughters into the house with her, who were beautiful and fair of face, but vile and black of heart. Now began a bad time for the poor step-child. said they. They took her pretty clothes away from her, put an old grey bedgown on her, and gave her wooden shoes. they cried, and laughed, and led her into the kitchen.\n",
      "SUMMARY: 1  A young girl was taken into the house of a woman who had come to live and work in the same place as her father.\n",
      "SEGMENT: 2 There she had to do hard work from morning till night, get up before daybreak, carry water, light fires, cook and wash. Besides this, the sisters did her every imaginable injury â they mocked her and emptied her peas and lentils into the ashes, so that she was forced to sit and pick them out again. In the evening when she had worked till she was weary she had no bed to go to, but had to sleep by the fireside in the ashes. And as on that account she always looked dusty and dirty, they called her Cinderella. It happened that the father was once going to the fair, and he asked his two step-daughters what he should bring back for them.\n",
      "SUMMARY: 2  A young girl called Cinderella was made to work for her step-daughters in a field near the city of Pembrokeshire.\n",
      "SEGMENT: 3 said one,  said the second. said he,   So he bought beautiful dresses, pearls and jewels for his two step-daughters, and on his way home, as he was riding through a green thicket, a hazel twig brushed against him and knocked off his hat. Then he broke off the branch and took it with him. When he reached home he gave his step-daughters the things which they had wished for, and to Cinderella he gave the branch from the hazel-bush. Cinderella thanked him, went to her mother's grave and planted the branch on it, and wept so much that the tears fell down on it and watered it.\n",
      "SUMMARY: 3  A young man called Cinderella wanted to be a princess, and she asked him to send her to her mother's grave.\n",
      "SEGMENT: 4 And it grew, however, and became a handsome tree. Thrice a day Cinderella went and sat beneath it, and wept and prayed, and a little white bird always came on the tree, and if Cinderella expressed a wish, the bird threw down to her what she had wished for.\n",
      "SUMMARY: 4  A little girl called Cinderella grew up under a tree in the garden of her home in Cinderella.\n",
      "SEGMENT: 5 It happened, however, that the King appointed a festival which was to last three days, and to which all the beautiful young girls in the country were invited, in order that his son might choose himself a bride. When the two step-sisters heard that they too were to appear among the number, they were delighted, called Cinderella and said,  Cinderella obeyed, but wept, because she too would have liked to go with them to the dance, and begged her step-mother to allow her to do so. said she;  As, however, Cinderella went on asking, the step-mother at last said,  The maiden went through the back-door into the garden, and called, The good into the pot, The bad into the crop.No, Cinderella, thou hast no clothes and thou canst not dance; thou wouldst only be laughed at.If thou canst pick two dishes of lentils out of the ashes for me in one hour, thou shalt go with us.That she most certainly cannot do.The good into the pot, The bad into the crop.All this will not help thee; thou goest not with us, for thou hast no clothes and canst not dance; we should be ashamed of thee!Shiver and quiver, little tree, Silver and gold throw down over me.This is my partner.I will go with thee and bear thee company,Can it be Cinderella?Shiver and quiver, my little tree, Silver and gold throw down over me.She is my partner.The stranger-maiden has escaped from me, and I believe she has climbed up the pear-tree.Can it be Cinderella?Shiver and quiver, my little tree, Silver and gold throw down over me.She is my partner.No one shall be my wife but she whose foot this golden slipper fits.Cut the toe off; when thou art Queen thou wilt have no more need to go on foot.Turn and peep, turn and peep, There's blood within the shoe,\n",
      "SUMMARY: 5  A young girl called Cinderella was not chosen by her step-sisters as a bride, because she had no clothes and could not dance.\n",
      "SEGMENT: 6 The shoe it is too small for her, The true bride waits for you.Cut a bit off thy heel; when thou art Queen thou wilt have no more need to go on foot.Turn and peep, turn and peep, There's blood within the shoe\n",
      "SUMMARY: 6  A little bit of blood inside a shoe, and the true bride waits for you, according to a poem by King Solomon.\n",
      "SEGMENT: 7 The shoe it is too small for her, The true bride waits for you.This also is not the right one,have you no other daughter?No,There is still a little stunted kitchen-wench which my late wife left behind her, but she cannot possibly be the bride.Oh, no, she is much too dirty, she cannot show herself!That is the true bride!Turn and peep, turn and peep, No blood is in the shoe, The shoe is not too small for her, The true bride rides with you,fractured fairy tale' version of this story in rhyme, How Cinderella Disposed of Her Shoe.\n",
      "SUMMARY: 7  A story in rhyme, How Cinderella Disposed of Her Shoe, has been told by a member of the public.\n"
     ]
    }
   ],
   "source": [
    "import pandas as pd\n",
    "\n",
    "df2 = pd.read_csv(\"../generated_images/baseline2_try/df_summary_distilbart.csv\")\n",
    "# df2.head()\n",
    "\n",
    "idx = 1\n",
    "\n",
    "segments = eval(df2.loc[idx][\"segmented_story\"])\n",
    "summaries = eval(df2.loc[idx][\"summarized_story\"])\n",
    "\n",
    "for i, segment in enumerate(segments):\n",
    "    print(\"SEGMENT:\", i, segment.strip()) \n",
    "    print(\"SUMMARY:\", i, summaries[i])"
   ]
  },
  {
   "cell_type": "code",
   "execution_count": 51,
   "metadata": {},
   "outputs": [
    {
     "name": "stdout",
     "output_type": "stream",
     "text": [
      "SEGMENT: 0 The wife of a rich man fell sick, and as she felt that her end was drawing near, she called her only daughter to her bedside and said,  Thereupon she closed her eyes and departed. Every day the maiden went out to her mother's grave, and wept, and she remained pious and good. When winter came the snow spread a white sheet over the grave, and when the spring sun had drawn it off again, the man had taken another wife.\n",
      "SUMMARY: 0 The story begins with a woman who was pious and good, and her only daughter, who was rich and pious.\n",
      "SEGMENT: 1 The woman had brought two daughters into the house with her, who were beautiful and fair of face, but vile and black of heart. Now began a bad time for the poor step-child. said they. They took her pretty clothes away from her, put an old grey bedgown on her, and gave her wooden shoes. they cried, and laughed, and led her into the kitchen.\n",
      "SUMMARY: 1 A young woman was taken into the kitchen of her mother's house, and taken away, and taken away.\n",
      "SEGMENT: 2 There she had to do hard work from morning till night, get up before daybreak, carry water, light fires, cook and wash. Besides this, the sisters did her every imaginable injury â they mocked her and emptied her peas and lentils into the ashes, so that she was forced to sit and pick them out again. In the evening when she had worked till she was weary she had no bed to go to, but had to sleep by the fireside in the ashes. And as on that account she always looked dusty and dirty, they called her Cinderella. It happened that the father was once going to the fair, and he asked his two step-daughters what he should bring back for them.\n",
      "SUMMARY: 2 The story begins with a young woman who had to live in the ashes of her father's house with her two sisters.\n",
      "SEGMENT: 3 said one,  said the second. said he,   So he bought beautiful dresses, pearls and jewels for his two step-daughters, and on his way home, as he was riding through a green thicket, a hazel twig brushed against him and knocked off his hat. Then he broke off the branch and took it with him. When he reached home he gave his step-daughters the things which they had wished for, and to Cinderella he gave the branch from the hazel-bush. Cinderella thanked him, went to her mother's grave and planted the branch on it, and wept so much that the tears fell down on it and watered it.\n",
      "SUMMARY: 3 The story of Cinderella and the branch from the hazel-bush is told in the story of Snow White and the Seven Dwarfs, which is told in the book of Chronicles of Narnia.\n",
      "SEGMENT: 4 And it grew, however, and became a handsome tree. Thrice a day Cinderella went and sat beneath it, and wept and prayed, and a little white bird always came on the tree, and if Cinderella expressed a wish, the bird threw down to her what she had wished for.\n",
      "SUMMARY: 4 When Cinderella was a young girl, her father gave her a tree, but it did not last very long, because it was too small for her, and she was afraid.\n",
      "SEGMENT: 5 It happened, however, that the King appointed a festival which was to last three days, and to which all the beautiful young girls in the country were invited, in order that his son might choose himself a bride. When the two step-sisters heard that they too were to appear among the number, they were delighted, called Cinderella and said,  Cinderella obeyed, but wept, because she too would have liked to go with them to the dance, and begged her step-mother to allow her to do so. said she;  As, however, Cinderella went on asking, the step-mother at last said,  The maiden went through the back-door into the garden, and called, The good into the pot, The bad into the crop.No, Cinderella, thou hast no clothes and thou canst not dance; thou wouldst only be laughed at.If thou canst pick two dishes of lentils out of the ashes for me in one hour, thou shalt go with us.That she most certainly cannot do.The good into the pot, The bad into the crop.All this will not help thee; thou goest not with us, for thou hast no clothes and canst not dance; we should be ashamed of thee!Shiver and quiver, little tree, Silver and gold throw down over me.This is my partner.I will go with thee and bear thee company,Can it be Cinderella?Shiver and quiver, my little tree, Silver and gold throw down over me.She is my partner.The stranger-maiden has escaped from me, and I believe she has climbed up the pear-tree.Can it be Cinderella?Shiver and quiver, my little tree, Silver and gold throw down over me.She is my partner.No one shall be my wife but she whose foot this golden slipper fits.Cut the toe off; when thou art Queen thou wilt have no more need to go on foot.Turn and peep, turn and peep, There's blood within the shoe,\n",
      "SUMMARY: 5 The story begins with a young girl, called Cinderella, and her two step-sisters, who lived in the city of Aeschylus, in the east of the country.\n",
      "SEGMENT: 6 The shoe it is too small for her, The true bride waits for you.Cut a bit off thy heel; when thou art Queen thou wilt have no more need to go on foot.Turn and peep, turn and peep, There's blood within the shoe\n",
      "SUMMARY: 6 The shoe it is too small for her, The true bride waits for you, The true bride waits for you, The true bride waits for you.\n",
      "SEGMENT: 7 The shoe it is too small for her, The true bride waits for you.This also is not the right one,have you no other daughter?No,There is still a little stunted kitchen-wench which my late wife left behind her, but she cannot possibly be the bride.Oh, no, she is much too dirty, she cannot show herself!That is the true bride!Turn and peep, turn and peep, No blood is in the shoe, The shoe is not too small for her, The true bride rides with you,fractured fairy tale' version of this story in rhyme, How Cinderella Disposed of Her Shoe.\n",
      "SUMMARY: 7 How Cinderella Disposed of her Shoe is a poem by Nigerian poet and novelist, Adaobi Tricia Nwaubani, which has been adapted from the Hans Christian Andersen fairytale, Cinderella.\n"
     ]
    }
   ],
   "source": [
    "df3 = pd.read_csv(\"../generated_images/baseline2_try/df_summary_pegasus.csv\")\n",
    "df3.head()\n",
    "\n",
    "idx = 1\n",
    "\n",
    "segments = eval(df3.loc[idx][\"segmented_story\"])\n",
    "summaries = eval(df3.loc[idx][\"summarized_story\"])\n",
    "\n",
    "for i, segment in enumerate(segments):\n",
    "    print(\"SEGMENT:\", i, segment.strip()) \n",
    "    print(\"SUMMARY:\", i, summaries[i])"
   ]
  },
  {
   "cell_type": "code",
   "execution_count": 52,
   "metadata": {},
   "outputs": [
    {
     "data": {
      "text/html": [
       "<div>\n",
       "<style scoped>\n",
       "    .dataframe tbody tr th:only-of-type {\n",
       "        vertical-align: middle;\n",
       "    }\n",
       "\n",
       "    .dataframe tbody tr th {\n",
       "        vertical-align: top;\n",
       "    }\n",
       "\n",
       "    .dataframe thead th {\n",
       "        text-align: right;\n",
       "    }\n",
       "</style>\n",
       "<table border=\"1\" class=\"dataframe\">\n",
       "  <thead>\n",
       "    <tr style=\"text-align: right;\">\n",
       "      <th></th>\n",
       "      <th>Unnamed: 0</th>\n",
       "      <th>original_story</th>\n",
       "      <th>story_name</th>\n",
       "      <th>story_type</th>\n",
       "      <th>segmented_story</th>\n",
       "      <th>summarized_story</th>\n",
       "    </tr>\n",
       "  </thead>\n",
       "  <tbody>\n",
       "    <tr>\n",
       "      <th>0</th>\n",
       "      <td>0</td>\n",
       "      <td>There was once a poor peasant who had no land,...</td>\n",
       "      <td>the peasants wise daughter</td>\n",
       "      <td>fairy_tale</td>\n",
       "      <td>[\"There was once a poor peasant who had no lan...</td>\n",
       "      <td>[' A tale of a tale of two daughters, one of t...</td>\n",
       "    </tr>\n",
       "    <tr>\n",
       "      <th>1</th>\n",
       "      <td>1</td>\n",
       "      <td>EAST INDIA was besieged by an enemy who would ...</td>\n",
       "      <td>the three black princesses</td>\n",
       "      <td>fairy_tale</td>\n",
       "      <td>[\"EAST INDIA was besieged by an enemy who woul...</td>\n",
       "      <td>[' All photographs courtesy of AFP, EPA, Getty...</td>\n",
       "    </tr>\n",
       "    <tr>\n",
       "      <th>2</th>\n",
       "      <td>2</td>\n",
       "      <td>There were once a cock and a hen who wanted to...</td>\n",
       "      <td>herr korbes</td>\n",
       "      <td>fairy_tale</td>\n",
       "      <td>[\"There were once a cock and a hen who wanted ...</td>\n",
       "      <td>[' All photographs courtesy of AFP, EPA, Getty...</td>\n",
       "    </tr>\n",
       "    <tr>\n",
       "      <th>3</th>\n",
       "      <td>3</td>\n",
       "      <td>Hard by a great forest dwelt a poor wood-cutte...</td>\n",
       "      <td>hansel and gretel</td>\n",
       "      <td>fairy_tale</td>\n",
       "      <td>[\"Hard by a great forest dwelt a poor wood-cut...</td>\n",
       "      <td>[' A young boy and a girl, both aged one-and-a...</td>\n",
       "    </tr>\n",
       "    <tr>\n",
       "      <th>4</th>\n",
       "      <td>4</td>\n",
       "      <td>The she-wolf brought forth a young one, and in...</td>\n",
       "      <td>the fox and his cousin</td>\n",
       "      <td>fairy_tale</td>\n",
       "      <td>[\"The she-wolf brought forth a young one, and ...</td>\n",
       "      <td>[' A fox and a she-wolf met in a village in th...</td>\n",
       "    </tr>\n",
       "  </tbody>\n",
       "</table>\n",
       "</div>"
      ],
      "text/plain": [
       "   Unnamed: 0                                     original_story  \\\n",
       "0           0  There was once a poor peasant who had no land,...   \n",
       "1           1  EAST INDIA was besieged by an enemy who would ...   \n",
       "2           2  There were once a cock and a hen who wanted to...   \n",
       "3           3  Hard by a great forest dwelt a poor wood-cutte...   \n",
       "4           4  The she-wolf brought forth a young one, and in...   \n",
       "\n",
       "                   story_name  story_type  \\\n",
       "0  the peasants wise daughter  fairy_tale   \n",
       "1  the three black princesses  fairy_tale   \n",
       "2                 herr korbes  fairy_tale   \n",
       "3           hansel and gretel  fairy_tale   \n",
       "4      the fox and his cousin  fairy_tale   \n",
       "\n",
       "                                     segmented_story  \\\n",
       "0  [\"There was once a poor peasant who had no lan...   \n",
       "1  [\"EAST INDIA was besieged by an enemy who woul...   \n",
       "2  [\"There were once a cock and a hen who wanted ...   \n",
       "3  [\"Hard by a great forest dwelt a poor wood-cut...   \n",
       "4  [\"The she-wolf brought forth a young one, and ...   \n",
       "\n",
       "                                    summarized_story  \n",
       "0  [' A tale of a tale of two daughters, one of t...  \n",
       "1  [' All photographs courtesy of AFP, EPA, Getty...  \n",
       "2  [' All photographs courtesy of AFP, EPA, Getty...  \n",
       "3  [' A young boy and a girl, both aged one-and-a...  \n",
       "4  [' A fox and a she-wolf met in a village in th...  "
      ]
     },
     "execution_count": 52,
     "metadata": {},
     "output_type": "execute_result"
    }
   ],
   "source": [
    "full_df = pd.read_csv(\"../generated_images/baseline2_full/df_summary.csv\")\n",
    "full_df.head()\n",
    "\n",
    "# idx = 1\n",
    "\n",
    "# segments = eval(df3.loc[idx][\"segmented_story\"])\n",
    "# summaries = eval(df3.loc[idx][\"summarized_story\"])\n",
    "\n",
    "# for i, segment in enumerate(segments):\n",
    "#     print(\"SEGMENT:\", i, segment.strip()) \n",
    "#     print(\"SUMMARY:\", i, summaries[i])"
   ]
  },
  {
   "cell_type": "code",
   "execution_count": 54,
   "metadata": {},
   "outputs": [
    {
     "data": {
      "text/plain": [
       "<bound method IndexOpsMixin.tolist of 0      the peasants wise daughter\n",
       "1      the three black princesses\n",
       "2                     herr korbes\n",
       "3               hansel and gretel\n",
       "4          the fox and his cousin\n",
       "                  ...            \n",
       "551            a hole in the wall\n",
       "552          the fox and the cock\n",
       "553     the goatherd and the goat\n",
       "554               dont mention it\n",
       "555        the garden of paradise\n",
       "Name: story_name, Length: 556, dtype: object>"
      ]
     },
     "execution_count": 54,
     "metadata": {},
     "output_type": "execute_result"
    }
   ],
   "source": [
    "full_df[\"story_name\"].tolist"
   ]
  },
  {
   "cell_type": "code",
   "execution_count": null,
   "metadata": {},
   "outputs": [],
   "source": []
  }
 ],
 "metadata": {
  "kernelspec": {
   "display_name": "genai",
   "language": "python",
   "name": "python3"
  },
  "language_info": {
   "codemirror_mode": {
    "name": "ipython",
    "version": 3
   },
   "file_extension": ".py",
   "mimetype": "text/x-python",
   "name": "python",
   "nbconvert_exporter": "python",
   "pygments_lexer": "ipython3",
   "version": "3.11.3"
  }
 },
 "nbformat": 4,
 "nbformat_minor": 2
}
