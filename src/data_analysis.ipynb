{
 "cells": [
  {
   "cell_type": "code",
   "execution_count": 1,
   "id": "9862f291-f4ef-4610-99de-675b8dd96f21",
   "metadata": {},
   "outputs": [],
   "source": [
    "import os\n",
    "import requests\n",
    "from bs4 import BeautifulSoup\n",
    "import sys"
   ]
  },
  {
   "cell_type": "code",
   "execution_count": 2,
   "id": "dd0fedcc-fac8-40f2-8722-a4dd3b0468ce",
   "metadata": {},
   "outputs": [],
   "source": [
    "def get_story_links(main_url):\n",
    "    response = requests.get(main_url)\n",
    "    soup = BeautifulSoup(response.content, 'html.parser')\n",
    "    links = soup.find_all('a')\n",
    "    story_links = [link.get('href') for link in links if 'author' in link.get('href')]\n",
    "    return story_links"
   ]
  },
  {
   "cell_type": "code",
   "execution_count": 3,
   "id": "9ddc4b4a-50ad-4fc7-85f0-6c9eda05151f",
   "metadata": {},
   "outputs": [],
   "source": [
    "def get_story_links_sub(main_url, name):\n",
    "    response = requests.get(main_url)\n",
    "    soup = BeautifulSoup(response.content, 'html.parser')\n",
    "    links = soup.find_all('a')\n",
    "    story_links = [link.get('href') for link in links if name in link.get('href')]\n",
    "    return story_links"
   ]
  },
  {
   "cell_type": "code",
   "execution_count": 25,
   "id": "4fe71bcf-0068-499d-b741-1786b6e07ea7",
   "metadata": {},
   "outputs": [],
   "source": [
    "def scrape_story(url):\n",
    "    response = requests.get(url)\n",
    "    soup = BeautifulSoup(response.content, 'html.parser')\n",
    "    paragraphs = soup.find_all('p')  # Assuming the story text is in <p> tags\n",
    "    story_text = ' '.join(p.get_text().replace('\\n', 'adititest') for p in paragraphs)\n",
    "    return story_text"
   ]
  },
  {
   "cell_type": "code",
   "execution_count": 26,
   "id": "5801e159-d34b-47ca-b2a7-e0c2437f4d79",
   "metadata": {},
   "outputs": [],
   "source": [
    "def save_story_as_text_file(story_name, story_text, file_directory):\n",
    "\n",
    "    directory_path = f\"{file_directory}/{story_name}\"\n",
    "    if not os.path.exists(directory_path):\n",
    "        os.makedirs(directory_path)\n",
    "\n",
    "    file_path = f\"{directory_path}/story.txt\"\n",
    "    with open(file_path, \"w\") as file:\n",
    "        file.write(story_text)\n",
    "\n",
    "    return file_path"
   ]
  },
  {
   "cell_type": "code",
   "execution_count": 27,
   "id": "ec8047d1-cdba-429b-ac5e-7a6fc289ea72",
   "metadata": {},
   "outputs": [],
   "source": [
    "file_directory = \"./dataset\""
   ]
  },
  {
   "cell_type": "code",
   "execution_count": 28,
   "id": "e9b243ad-c227-4c0f-b730-2d2c23887ba3",
   "metadata": {},
   "outputs": [],
   "source": [
    "# url = 'https://americanliterature.com/childrens-stories/the-three-little-pigs'\n",
    "# scraped_text = scrape_story(url)\n",
    "# print(scraped_text)"
   ]
  },
  {
   "cell_type": "code",
   "execution_count": 29,
   "id": "466f6642-8269-4bb7-925f-64305f6ad35c",
   "metadata": {},
   "outputs": [
    {
     "data": {
      "text/plain": [
       "427"
      ]
     },
     "execution_count": 29,
     "metadata": {},
     "output_type": "execute_result"
    }
   ],
   "source": [
    "main_url = 'https://americanliterature.com/author'\n",
    "story_links_all = get_story_links(main_url)\n",
    "author_links = [story for story in story_links_all if story.startswith(\"/author/\")]\n",
    "len(author_links)"
   ]
  },
  {
   "cell_type": "code",
   "execution_count": 30,
   "id": "24c3bf53-534f-4060-af8c-af6c2d872cd1",
   "metadata": {
    "scrolled": true
   },
   "outputs": [],
   "source": [
    "# for link in story_links:\n",
    "#     if link.startswith(\"aesop/short-story/\"):\n",
    "#         story_name = link.replace('aesop/short-story/', '')\n",
    "#         story_name = story_name.replace('-', ' ')\n",
    "#         print(story_name)\n",
    "#         link = f\"https://americanliterature.com/author/{link}/\"\n",
    "#         print(link)\n",
    "#         story_text = scrape_story(link)\n",
    "#         file_path = save_story_as_text_file(story_name, story_text, file_directory)\n",
    "#         print(f\"Story saved at: {file_path}\")\n",
    "#     else:\n",
    "#         continue\n",
    "\n",
    "    "
   ]
  },
  {
   "cell_type": "code",
   "execution_count": 31,
   "id": "bd483a7c-2cc2-482e-ad2a-c86853ca9bf0",
   "metadata": {},
   "outputs": [
    {
     "name": "stdout",
     "output_type": "stream",
     "text": [
      "short story/old ironsides\n",
      "In 1833, when the old war ship Constitution, unfit for service, lay in the navy yard in Charlestown, the Secretary of the Navy decided to sell her or to break her up. On the appearance of this bit of news in a Boston paper, Oliver Wendell Holmes, a law student at Harvard, scribbled some verses and sent them to the editor. This poem of twenty-four lines was at once published, and was soon copied into the leading newspapers of the country. In our large cities, the poem was circulated as a handbill. Popular indignation rose to a white heat, and swept everything before it. The order was at once revoked, and Congress decided that the old frigate, so dear to the hearts of the American people, should be rebuilt. Why did the people care so much about \"Old Ironsides\"? For twenty-five years after the adoption of the Constitution, we had a rough road to travel. We were nearly crushed by our foreign debts, and could do little to defend ourselves on the high seas. England boarded our ships and carried off our sailors, and France captured our vessels and stole their cargoes. Even the Barbary pirates, when they spied the new flag, began to plunder and burn our merchantmen, and sell their crews into slavery. In the fall of 1793, eight Algerine pirate craft sailed out into the Atlantic, and within a month had captured eleven of our ships and made slaves of more than a hundred of our sailors. Think of our consul at Lisbon writing home, \"Another Algerine pirate in the Atlantic. God preserve us!\" In behalf of American citizens held as slaves by these pirates, a petition was sent to Congress. A bill was then passed, allowing President Washington to build or to buy six frigates. It was a fortunate day for our nation when the plans of Mr. Humphreys, a shipbuilder of Philadelphia, were accepted. He was directed by Congress to prepare the models of six war ships, to be built in different towns on the coast. The design of the Constitution was sent to Boston, and her keel was laid in Hartt's Naval Yard, near what is now Constitution Wharf. The ideas of Mr. Humphreys were carried out to the letter. The new frigate was to have better guns, greater speed, greater cruising capacity,—in fact, was to be a little better in every respect than the British and the French ships of the same rating. The Constitution was called a forty-four-gun frigate, although she actually carried thirty twenty-four-pounders on her main deck, and twenty-two thirty-two-pounders on her spar deck. She had one gun deck instead of two, and her cannon were heavier than were usually carried on foreign war ships of her own class. She was twenty feet longer and about five feet broader than the far-famed thirty-eight-gun British frigates. In comparison with a modern war ship, she was less than one half as long as the armed cruiser New York, and not far from the size of one of our gunboats. The British naval officers made much sport of these new ships; but after \"Old Ironsides\" had destroyed two fine British frigates, and had outsailed a large British fleet, they went to work and made over some of their line of battle ships into large frigates. The Constitution was built of the best material, and with unusual care. A Boston shipwright was sent South to select live oak, red cedar, and hard pine. Paul Revere, who made the famous midnight ride to Concord, received nearly four thousand dollars for the copper which he furnished for the new frigate. From the laying of the keel to the final equipment, the Constitution was kept in the shipyard fully three years. Her live oak timbers, having had two years to season, were hard as iron. After many delays, the stanch ship was set afloat at midday, October 21, 1797, \"before a numerous and brilliant collection of citizens.\" In 1803, a fleet was sent to the north of Africa, to force the pirates of the Barbary coast to respect the persons and the property of American citizens. Commodore Preble was made commander, with the Constitution as his flagship. He had under him the Philadelphia, a fine new frigate, and five smaller war ships. Preble was a remarkable man, and his \"schoolboy captains,\" as he called them, all under twenty-five years of age, were also remarkable men. For two years or more, there was plenty of stubborn fighting. Within forty days, five attacks were made on the forts and the war ships of Tripoli. In three of these attacks, the Constitution took part; and once, while supporting the fleet, she silenced more than a hundred guns behind the forts of the pirate capital. Even from the first, the new frigate was lucky. She was never dismasted, or seriously injured, in battle or by weather. In all her service, not one commanding officer was ever lost, and few of her crew were ever killed. On one occasion, six of our gunboats made a savage hand to hand attack on twenty-one Tripolitan gunboats, and drove them back into the harbor with great loss. \"There, Commodore Preble,\" said young Decatur, as he came over the side of the Constitution, and walked joyfully up to his commander on the quarter-deck, \"I have brought you out three of the gunboats.\" Preble had a kind heart, but a very quick temper. Like a flash, he seized Decatur by the collar and shook him, shouting, \"Aye, sir, why did you not bring me out more?\" and walked into his cabin. The stern old fighter was over his temper in a moment. He sent for his young officer, and made ample amends for bad temper and hasty words. Ever afterwards these two great men were the best of friends. During the war of 1812, \"the war for free trade and sailors' rights,\" the Constitution won her chief honors. The story of her remarkable escape from a British squadron has been often told. It was at daybreak about the middle of July, 1812, off the New Jersey coast. Not a breath ruffled the ocean. Captain Isaac Hull, every inch of him a sailor, was in command. A British fleet of five frigates and some smaller vessels, which had been sighted the day before, had crept up during the night, and at daylight almost surrounded \"Old Ironsides.\" Hull knew his ship and his men. Not for one moment did he think of giving up his vessel. Of course he could not fight his powerful foe with his single ship. He must get away. But how? One of the British frigates, the Shannon, had furled her sails, and was being towed by all the boats of the fleet. \"This,\" said Lieutenant Morris, \"seemed to decide our fate.\" A moment later, however, a puff of wind carried our frigate out of gunshot. \"How deep is the water?\" shouts Captain Hull. \"Twenty fathoms,\" is the reply. \"Out with the kedge anchor!\" cries Hull. All the spare ropes and cables are fastened together and payed out to an anchor, which is dropped into the sea a mile ahead. The sailors on the frigate go round the windlass on the run, and the vessel is slowly drawn ahead to the anchor, which is now quickly taken up and carried out once more. This is called kedging. Our sailor boys give cheer on cheer as they whirl the windlass and pull at the oars. The captain of one of the enemy's frigates now sees the game, and tries kedging, but does not get near enough to throw a shot. Three of the pursuing frigates open fire at long range, without doing any damage. All day long this pursuit is kept up. Every gun is loaded, ready to fire. The men rest by the cannon, with their rammers and their sponges beside them. All the next day the chase goes on. At last, slowly but surely, the American frigate gains on her pursuers. At four o'clock in the afternoon, the Shannon is four miles astern. Two hours later, a squall gave Hull a chance to play a trick on his pursuers. Sail was shortened the moment the squall struck. The British captain, seeing the apparent confusion on board the Yankee frigate, also shortened sail. The moment his vessel was hidden by the rain, Hull quickly made sail again. When the weather cleared, his nearest pursuer was far astern. At daylight the next morning, the British fleet was almost out of sight, and, after a chase of three nights and two days, gave up the contest. Six days later, the good people of Boston went wild with delight, as their favorite frigate ran the blockade and came to anchor in the harbor. Captain Hull was not the man to be shut up in Boston harbor if he could help it. In less than two weeks he ran the blockade and sailed out upon the broad ocean. A powerful British fleet was off the coast. Hull knew it, but out he sailed with his single ship to battle for his country. Now the British had a fine frigate named the Guerrière. This vessel was one of the fleet that had given the Constitution such a hot chase a few days before. Captain Dacres, her commander, and Captain Hull were personal friends, and had wagered a hat on the result of a possible battle between their frigates. The British captain had just written a challenge to the commander of our fleet, saying that he should like to meet any frigate of the United States, to have a few minutes tête-à-tête. On the afternoon of August 19, about seven hundred miles northeast of Boston, these two finest frigates in the world, the Guerrière and the Constitution, met for the \"interview\" that Dacres so much wanted. All is hurry and bustle on \"Old Ironsides.\" \"Clear for action!\" shrilly sounds the boatswain's whistle. The fife and drum call to quarters. Everybody hurries to his place. The British frigate, as if in defiance, flings out a flag from each topmast. Her big guns flash, but the balls fall short. \"Don't fire until I give the word,\" orders Captain Hull. Now the Guerrière, drawing nearer and nearer, pours in a broadside. \"Shall we not fire, sir?\" asks Lieutenant Morris. \"Not yet,\" is Hull's reply. Another broadside tears through the rigging, wounding several men. The sailors are restless at their double-shotted guns. Now the two frigates are fairly abreast, and within pistol shot of each other. \"Now, boys, do your duty. Fire!\" shouts the gallant commander, at the top of his voice. Hull is a short and stout man. As he leans over to give the order to fire, his breeches burst from hip to knee. The men roar with laughter. There is no time to waste, however, and so he finishes the battle in his laughable plight. An officer, pointing to the captain, cries, \"Hull her, boys! hull her!\" The men, catching the play upon words, shout, \"Hull her! Yes, we'll hull her!\" \"Old Ironsides\" now lets fly a terrible broadside at close range. The Guerrière's mizzenmast goes overboard. \"My lads, you have made a brig of that craft!\" cries Hull. \"Wait a moment, sir, and we'll make her a sloop!\" shout back the sailors. Sure enough, the Guerrière swings round and gets a raking fire, which cuts away the foremast and much of the rigging, and leaves her a helpless hulk in the trough of the sea. The flag goes down with the rigging, and there is nothing to do but to surrender. In just thirty minutes, the British frigate is a wreck. During the hottest part of the battle, a sailor, at least so runs the story, saw a cannon ball strike the side of the vessel and fall back into the sea. \"Hurrah, boys! hurrah for 'Old Ironsides'!\" he shouted to his mates; \"her sides are made of iron.\" Some say that from this incident the nickname of \"Old Ironsides\" took its origin. Captain Hull received his old friend Dacres, kindly, on board the Constitution, and said, \"I see you are wounded, Dacres. Let me help you.\" When the British captain offered his sword, Hull said, \"No, Dacres, I cannot take the sword of a man who knows so well how to use it, but I will thank you for that hat!\" Just as they were ready to blow up the Guerrière, Dacres remembered that a Bible, his wife's gift, which he had carried with him for years, had been left behind. Captain Hull at once sent a boat after it. Twenty-five years after this incident, Captain Dacres, then an admiral, gave Hull a dinner on his flagship, at Gibraltar, and told the ladies the story of his wife's Bible. When \"Old Ironsides\" came sailing up the harbor, on the last day of August, what a rousing reception the people of Boston gave Captain Hull and his gallant men! All the people of the town crowded the wharves or filled the windows and the housetops overlooking the bay. The streets were gay with bunting, and there was a grand dinner, with many patriotic speeches and deafening cheers. In less than five months after her battle with the Guerrière, the Constitution had her hardest fight. It was with the Java, one of the best frigates in the British navy. Her commander, Captain Lambert, was said to be one of the ablest sailors that ever handled a war ship. The battle took place some thirty miles off the northeast coast of Brazil. The Constitution was commanded by Captain William Bainbridge. Before this, he had done some feats of seamanship, but thus far in his career he had not been fortunate. As you remember, Captain Bainbridge, through no fault of his own, lost the Philadelphia off the harbor of Tripoli. The battle began about two o'clock in the afternoon, with broadsides from both frigates. Bainbridge was soon wounded in the hip by a musket ball; then the wheel was shattered, and a small copper bolt was driven into his thigh. Unwilling to leave the deck a moment, he had his wounds dressed while directing the battle. Finding that he could not get near enough to the swift British frigate, Bainbridge boldly headed for the enemy. There was great risk of getting raked, but fortunately the Java's shots went wild. \"Old Ironsides\" was now within close range of the Java, and the fire of her heavy cannon soon left the British frigate dismasted and helpless. The British did not surrender, however, until every stick in the ship except a part of the mainmast had been cut away. Captain Lambert was mortally injured, his first lieutenant severely hurt, and nearly fifty men were killed and more than one hundred wounded. \"Old Ironsides\" came out of the battle with every spar in place. The wheel of the Java was removed and fitted on the Constitution, to replace the one which had been shot away. A few years after the war, some British naval officers paid a visit to \"Old Ironsides.\" \"You have a most perfect vessel,\" said one of them, \"but I must say that you have a very ugly wheel for so beautiful a frigate.\" \"Yes,\" said the American captain to whom the remark was made, \"it is ugly. We lost our wheel in fighting the Java, and after the battle we replaced it with her wheel, and somehow we have never felt like changing it.\" Bainbridge was a great-hearted and heroic man. When he was told that Captain Lambert was mortally injured, he forgot his own wounds and had his men carry him to the blood-stained quarter-deck, where the British officer lay. He then put into the dying man's hand the sword he had just surrendered. On Captain Bainbridge's return to Boston, another long procession marched up State Street, and another grand dinner was given. When he traveled by coach to Washington, the people along the route turned out in great crowds to honor the naval hero. The Constitution fought her last battle off the Madeira Islands, on February 20, 1815, under the command of Captain Charles Stewart, one of the hardest fighters in the history of our navy. \"What shall I bring you for a present?\" said Captain Stewart to his bride. \"A British frigate,\" promptly replied the patriotic young wife. \"I will bring you two,\" answered Stewart. On the afternoon of February 20, two British men-of-war hove in sight. They proved to be the frigate Cyane and the sloop of war Levant. \"Old Ironsides\" made all sail to overhaul them. Stewart's superb seamanship in this sharp battle has excited the admiration of naval experts, even to our own day. It is generally admitted that no American ship was ever better handled. He raked one vessel and then the other, repeatedly. Neither of the enemy's war ships got in a single broadside. Just forty minutes after Stewart's first fire, the Cyane surrendered. A full moon then rose in all its splendor, and the battle went stoutly on with the Levant. At ten o'clock, however, she, too, perfectly helpless, struck her colors. \"Old Ironsides'\" last great battle was over. Singlehanded, she had fought two British war ships at one time and defeated them, and that, too, with only three men killed and twelve wounded. In less than three hours our stanch frigate was again in fighting trim. With the exception of long periods of rest, \"Old Ironsides\" carried her country's flag with dignity and honor for forty years. Her cruising days ended just before the outburst of the Civil War, in 1861, when she was taken to Newport, Rhode Island, to serve as a school-ship for the Naval Academy. Later, she was housed over, and used as a receiving ship at Portsmouth, New Hampshire. In the fall of 1897, she was towed to the navy yard at Charlestown, to take part in her centennial celebration, October 21, 1897. The old Constitution has been rebuilt in parts, and repaired many times; so that little remains of the original vessel except her keel and her floor frames. These huge pieces of her framework, hewn by hand from solid oak, are the same that thrilled with the shock of the old guns, before the granite forts of Tripoli. Over them floated the American flag and the pennants of Preble, Hull, Bainbridge, Decatur, Stewart, and many other gallant men, whose heroic deeds have shed luster on the American navy. It is interesting to know that Commodore Stewart was the last survivor of the great captains of the war of 1812. He served his country faithfully for seventy-one years, and lived to be ninety-one. He died at his home, called \"Old Ironsides,\" in New Jersey, in 1869. The loss of a few frigates did not matter much to England, but the loss of her naval prestige in the war of 1812 was of importance to the whole world. For the first time, Europe realized that there was a new nation, which was able and willing to fight for its freedom on the ocean, as it had fought for its independence on land. \"Old Ironsides\" still survives, a weather-beaten and battle-scarred hull, but a precious memorial of the nation's glory. She has earned a lasting place in the affections of the American people. Enjoy more stories about Americans who shaped history in our collection of American Biographies for Kids    Return to the Albert F. Blaisdell library , or . . . Read the next short story; The First Thanksgiving Or read more short stories for kids in our Children's Library\n",
      "Story saved at: ./dataset/short story/old ironsides/story.txt\n",
      "short story/the first thanksgiving\n",
      "[A story of the time long ago when the Pilgrims of Plymouth invited the Indian chief Massasoit and his followers to share their feast.]  ALL through the first summer and the early part of autumn the Pilgrims were busy and happy. They had planted and cared for their first fields of corn. They had found wild strawberries in the meadows, raspberries on the hillsides, and wild grapes in the woods. In the forest just back of the village wild turkeys and deer were easily shot. In the shallow waters of the bay there was plenty of fish, clams, and lobsters. The summer had been warm, with a good deal of rain and much sunshine; and so when the autumn came there was a fine crop of corn. \"Let us gather the fruits of our first labours and rejoice together,\" said Governor Bradford. \"Yes,\" said Elder Brewster, \"let us take a day upon which we may thank God for all our blessings, and invite to it our Indian friends who have been so kind to us.\" The Pilgrims said that one day was not enough; so they planned to have a celebration for a whole week. This took place most likely in October. The great Indian chief, Massasoit, came with ninety of his bravest warriors, all gayly dressed in deerskins, feathers, and foxtails, with their faces smeared with red, white, and yellow paint. As a sign of rank, Massasoit wore round his neck a string of bones and a bag of tobacco. In his belt he carried a long knife. His face was painted red, and his hair was so daubed with oil that Governor Bradford said he \"looked greasily.\" Now there were only eleven buildings in the whole of Plymouth village, four log storehouses and seven little log dwelling-houses; so the Indian guests ate and slept out of doors. This was no matter, for it was one of those warm weeks in the season we call Indian summer. To supply meat for the occasion four men had already been sent out to hunt wild turkeys. They killed enough in one day to last the whole company almost a week. Massasoit helped the feast along by sending some of his best hunters into the woods. They killed five deer, which they gave to their paleface friends, that all might have enough to eat. Under the trees were built long, rude tables on which were piled baked clams, broiled fish, roast turkey, and deer meat. The young Pilgrim women helped serve the food to the hungry redskins. Let us remember two of the fair girls who waited on the tables. One was Mary Chilton, who leaped from the boat at Plymouth Rock; the other was Mary Allerton. She lived for seventy-eight years after this first Thanksgiving, and of those who came over in the Mayflower she was the last to die. What a merry time everybody had during that week! It may be they joked Governor Bradford about stepping into a deer trap set by the Indians and being jerked up by the leg. How the women must have laughed as they told about the first Monday morning at Cape Cod, when they all went ashore to wash their clothes! It must have been a big washing, for there had been no chance to do it at sea, so stormy had been the long voyage of sixty-three days. They little thought that Monday would afterward be kept as washday. Then there was young John Howland, who in mid-ocean fell overboard but was quick enough to catch hold of a trailing rope. Perhaps after dinner he invited Elizabeth Tilley, whom he afterward married, to sail over to Clarke's Island and return by moonlight. With them, it may be, went John Alden and Priscilla Mullins, whose love story is so sweetly told by Longfellow. One proud mother, we may be sure, showed her bright-eyed boy, Peregrine White. And so the fun went on. In the daytime the young men ran races, played games, and had a shooting match. Every night the Indians sang and danced for their friends; and to make things still more lively they gave every now and then a shrill war whoop that made the woods echo in the still night air. The Indians had already learned to love and fear Captain Miles Standish. Some of them called him \"Boiling Water\" because he was easily made angry. Others called him \"Captain Shrimp,\" on account of his small size. Every morning the shrewd captain put on his armour and paraded his little company of a dozen or more soldiers; and when he fired off the cannon on Burial Hill the Indians must have felt that the English were men of might thus to harness up thunder and lightning. During this week of fun and frolic it was a wonder if young Jack Billington did not play some prank on the Indians. He was the boy who fired off his father's gun one day, close to a keg of gunpowder, in the crowded cabin of the Mayflower. The third day came. Massasoit had been well treated, and no doubt would have liked to stay longer, but he had said he could stay only three days. So the pipe of peace was silently passed around. Then, taking their presents of glass beads and trinkets, the Indian king and his warriors said farewell to their English friends and began their long tramp through the woods to their wigwams on Mount Hope Bay. On the last day of this Thanksgiving party the Pilgrims had a service of prayer and praise. Elder Brewster preached the first Thanksgiving sermon. After thanking God for all his goodness, he did not forget the many loved ones sleeping on the hillside. He spoke of noble John Carver, the first governor, who had died of worry and overwork. Nor was Rose Standish forgotten, the lovely young wife of Captain Miles Standish, whose death was caused by cold and lack of good food. And then there was gentle Dorothy, wife of Governor Bradford, who had fallen overboard from the Mayflower in Provincetown harbour while her husband was coasting along the bleak shore in search of a place for a home. The first Thanksgiving took place nearly three hundred years ago. Since that time, almost without interruption, Thanksgiving has been kept by the people of New England as the great family festival of the year. At this time children and grandchildren return to the old home, the long table is spread, and brothers and sisters, separated often by many miles, again sit side by side. To-day Thanksgiving is observed in nearly all the states of the Union, a season of sweet and blessed memories. Visit our collection of Thanksgiving Stories for more stories celebrating this holiday. You may also enjoy reading The First Christmas of New England by Harriet Beecher Stowe    Return to the Albert F. Blaisdell library , or . . . Read the next short story; The Patriot Spy Or read more short stories for kids in our Children's Library\n",
      "Story saved at: ./dataset/short story/the first thanksgiving/story.txt\n",
      "short story/the patriot spy\n",
      "It was plain that Washington was troubled. As he paced the piazza of the stately Murray mansion one fine autumn afternoon, he was saying half aloud to himself, \"Shall we defend or shall we quit New York?\" At this time Washington's headquarters were on Manhattan Island, at the home of the Quaker merchant, Robert Murray; and here, in the first week of September, 1776, he had asked his officers to meet him in council. Was it strange that Washington's heart was heavy? During the last week of August, the Continental army had been defeated in the battle of Long Island. A fourth of the army were on the sick list; a third were without tents. Winter was close at hand, and the men, mostly new recruits, were short of clothing, shoes, and blankets. Only fourteen thousand men were fit for duty, and they were scattered all the way from the Battery to Kingsbridge, a distance of a dozen miles or more. The British army, numbering about twenty-five thousand, lay encamped along the shores of New York Bay and the East River. The soldiers were veterans, and they were led by veterans. A large fleet of war ships, lying at anchor, was ready to assist the land forces at a moment's notice. Scores of guard ships sailed to and fro, watching every movement of the patriot troops. To give up the city to the British without battle seemed a great pity. The effect upon the patriot cause in all the colonies would be bad. Still, there was no help for it. What was the use of fighting against such odds? Why run the risk of almost certain defeat? Washington always looked beyond the present, and he did not intend now to be shut up on Manhattan Island, perhaps to lose his entire army; so, with the main body, he moved north to Harlem Heights. Here he was soon informed by scouts that the British were getting ready to move at once. Whither, nobody could tell. Such was the state of affairs that led Washington to call his chief officers to the Murray mansion, on that September afternoon. Of course they talked over the situation long and calmly. After all, the main question was, What shall be done? Among other things, it was thought best to find the right sort of man, and send him in disguise into the British camp on Long Island, to find out just where the enemy were planning to attack. \"Upon this, gentlemen,\" said Washington, \"depends at this time the fate of our army.\" The commander in chief sent for Colonel Knowlton, the hero of the rail fence at Bunker Hill.  \"I want you to find for me in your regiment or in some other,\" he said, \"some young officer to go at once into the British camp, to discover what is going on. The man must have a quick eye, a cool head, and nerves of steel. I wish him to make notes of the position of the enemy, draw plans of the forts, and listen to the talk of the officers. Can you find such a man for me this very afternoon?\" \"I will do my best, General Washington,\" said the colonel, as he took leave to go to his regiment. On arriving at his quarters that afternoon, Knowlton called together a number of officers. He briefly told them what Washington wanted, and asked for volunteers. There was a long pause, amid deep surprise. These soldiers were willing to serve their country; but to play the spy, the hated spy, was too much even for Washington to ask. One after another of the officers, as Knowlton called them by name, declined. His task seemed hopeless. At last, he asked a grizzled Frenchman, who had fought in many battles and was noted for his rash bravery. \"No, no! Colonel Knowlton,\" he said, \"I am ready to fight the redcoats at any place and at any time; but, sir, I am not willing to play the spy, and be hanged like a dog if I am caught.\" Just as Knowlton gave up hope of finding a man willing to go on the perilous mission, there came to him the painfully thrilling but cheering words, \"I will undertake it.\" It was the voice of Captain Nathan Hale. He had just entered Knowlton's tent. His face was still pale from a severe sickness. Every man was astonished. The whole company knew the brilliant young officer, and they loved him. Now they all tried to dissuade him. They spoke of his fair prospects, and of the fond hopes of his parents and his friends. It was all in vain. They could not turn him from his purpose. \"I wish to be useful,\" he said, \"and every kind of service necessary for the public good becomes honorable by being necessary. If my country needs a peculiar service, its claims upon me are imperious.\" These patriotic words of a man willing to give up his life, if necessary, for the good of his country silenced his brother officers. \"Good-by, Nathan!\" \"Don't you let the redcoats catch you!\" \"Good luck to you!\" \"We never expect to see you again!\" cried his nearest friends in camp, as, in company with Colonel Knowlton, the young captain rode out that same afternoon to receive his orders from Washington himself. Nathan Hale was born, as were his eight brothers and his three sisters, in an old-fashioned, two-storied house, in a little country village of Connecticut. His father, a man of integrity, was a stanch patriot. Instead of allowing his family to use the wool raised on his farm, he saved it to make blankets for the Continental army. The mother of this large family was a woman of high moral and domestic worth, devoted to her children, for whom she sought the highest good. It was a quiet, strict household, Puritan in its faith and its manners, where the Bible ruled, where family prayers never failed, nor was grace ever omitted at meals. On a Saturday night, no work was done after sundown. Young Nathan was a bright, active American boy. He liked his gun and his fishing pole. He was fond of running, leaping, wrestling, and playing ball. One of his pupils said that Hale would put his hand upon a fence as high as his head, and clear it easily at a bound. He liked books, and read much out of school. Like two of his brothers, he was to be educated for the ministry. When only sixteen, he entered Yale College, and was graduated two years before the battle of Bunker Hill. Early in the fall of 1773, the young graduate began to teach school, and was soon afterwards made master of a select school in New London, in his native state. At this time young Hale was about six feet tall, and well built. He had a broad chest, full face, light blue eyes, fair complexion, and light brown hair. He had a large mole on his neck, just where the knot of his cravat came. At college his friends used to joke him about it, declaring that he was surely born to be hanged. Such was Nathan Hale when the news of the bloodshed at Lexington reached New London. A rousing meeting was held that evening. The young schoolmaster was one of the speakers. \"Let us march at once,\" he said, \"and never lay down our arms until we obtain our independence.\" The next morning, Hale called his pupils together, \"gave them earnest counsel, prayed with them, and shaking each by the hand,\" took his leave, and during the same forenoon marched with his company for Cambridge. The young officer from Connecticut took an active part in the siege of Boston, and soon became captain of his company. Hale's diary is still preserved, and after all these years it is full of interest. It seems that he took charge of his men's clothing, rations, and money. Much of his time he was on picket duty, and took part in many lively skirmishes with the redcoats. Besides studying military tactics, he found time to make up wrestling matches, to play football and checkers, and, on Sundays, to hold religious meetings in barns. Within a few hours after bidding good-by to General Washington, Captain Hale, taking with him one of his own trusty soldiers, left the camp at Harlem, intending at the first opportunity to cross Long Island Sound. There were so many British guard ships on the watch that he and his companion found no safe place to cross until they had reached Norwalk, fifty miles up the Sound on the Connecticut shore. Here a small sloop was to land Hale on the other side. Stripping off his uniform, the young captain put on a plain brown suit of citizen's clothes, and a broad-brimmed hat. Thus attired in the dress of a schoolmaster, he was landed across the Sound, and shortly afterwards reached the nearest British camp. The redcoats received the pretended schoolmaster cordially. A captain of the dragoons spoke of him long afterwards as a \"jolly good fellow.\" Hale pretended that he was tired of the \"rebel cause,\" and that he was in search of a place to teach school. It would be interesting to know just what the \"schoolmaster\" did in the next two weeks. Think of the poor fellow's eagerness to make the most of his time, drawing plans of the forts, and going rapidly from one point to another to watch the marching of troops, patrols, and guards. Think of his sleepless nights, his fearful risk, the ever-present dread of being recognized by some Tory. All this we know nothing about, but his brave and tender heart must sometimes have been sorely tried. From the midst of all these dangers Hale, unharmed, began his return trip to the American lines. He had threaded his way through the woods, and round all the British camps on Long Island, until he reached in safety the point where he had first landed. Here he had planned for a boat to meet him early the next morning, to take him over to the mainland. Many a patriotic American boy has thought what he should have done if he could have exchanged places with Nathan Hale on this evening. Near by, at a place then called and still called \"The Cedars,\" a woman by the name of Chichester, and nicknamed \"Mother Chick,\" kept a tavern, which was the favorite resort of all the Tories in that region. Hale was sure that nobody would know him in his strange dress, and so he ventured into the tavern. A number of people were in the barroom. A few minutes afterwards, a man whose face seemed familiar to Hale suddenly left the room, and was not seen again. The pretended schoolmaster spent the night at the tavern. Early the next morning, the landlady rushed into the barroom, crying out to her guests, \"Look out, boys! there is a strange boat close in shore!\" The Tories scampered as if the house were on fire. \"That surely is the very boat I'm looking for,\" thought Hale on leaving the tavern, and hastened towards the beach, where the boat had already landed. A moment more, and the young captain was amazed at the sight of six British marines, standing erect in the boat, with their muskets aimed at him. He turned to run, when a loud voice cried out, \"Surrender or die!\" He was within close range of their guns. Escape was not possible. The poor fellow gave himself up. He was taken on board the British guard ship Halifax, which lay at anchor close by, hidden from sight by a point of land. Some have declared that the man who so suddenly left the tavern was a Tory cousin to Hale, and saw at once through the patriot's disguise; that, being quite a rascal, he hurried away to get word to the British camp. There seems to be no good reason, however, to believe that the fellow was a kinsman. However this may be, the British captured Captain Hale in disguise. They stripped him and searched him, and found his drawings and his notes. These were written in Latin, and had been tucked away between the soles of his shoes. \"I am sorry that so fine a fellow has fallen into my hands,\" said the captain of the guard ship, \"but you are my prisoner, and I think a spy. So to New York you must go!\" General Howe's headquarters were at this time in the elegant Beekman mansion, situated near what is now the corner of Fifty-First Street and First Avenue. Calm and fearless, the captured spy stood before the British commander. He bravely owned that he was an American officer, and said that he was sorry he had not been able to serve his country better. No time was to be wasted in calling a court-martial. Without trial of any kind, Captain Hale was condemned to die the death of a spy. The verdict was that he should be hanged by the neck, \"to-morrow morning at daybreak.\" That night, which was Saturday, September 21, the condemned man was kept under a strong guard, in the greenhouse near the Beekman mansion. He had been given over to the care of the brutal Cunningham, the infamous British provost marshal, with orders to carry out the sentence before sunrise the next morning. \"To-morrow morning at daybreak.\" How cruelly brief! Nathan Hale, the patriot spy, was left to himself for the night. When morning came, Cunningham found his prisoner ready. While preparations were being made, a young officer, moved in spite of himself, allowed Hale to sit in his tent long enough to write brief letters to his parents and his friends. The letters were passed to Cunningham to be sent. He read them, and as he saw the noble spirit which breathed in every line, the wretch began to curse, and tore the letters into bits before the face of his victim. He said that the rebels should never know they had a man who could die with such firmness. It was just before sunrise on a lovely Sabbath morning that Nathan Hale was led out to death. The gallows was the limb of an apple tree. Early as it was, a number of men and women had come to witness the execution. \"Give us your dying speech, you young rebel!\" shouted the brutal Cunningham. The young patriot, standing upon the fatal ladder, lifted his eyes toward heaven, and said, in a calm, clear voice, \"I only regret that I have but one life to lose for my country.\" These were his last words. The women sobbed, and some of the men began to show signs of sympathy. \"Swing the rebel off!\" cried Cunningham, in a voice hoarse with anger. The order was obeyed.  Half an hour later, the body of the patriot spy was buried, probably beneath the apple tree, but the grave was not marked, and the exact spot is now unknown. A British officer was sent, under a flag of truce, to tell Washington of the fate of his gallant young captain. Thus died in the bloom of life, Captain Nathan Hale, the early martyr in the cause of our freedom. Gifted, educated, ambitious, he laid aside every thought of himself, and entered upon a service of the greatest risk to life and to honor, because Washington deemed it important to the sacred cause to which they had both given their best efforts. \"What was to have been your reward in case you succeeded?\" asked Major Tallmadge, Hale's classmate, of the British spy, Major André, as his prisoner was being rowed across the Hudson River to be tried by court-martial. \"Military glory was all I sought for,\" replied André; \"the thanks of my general and the approbation of my king would have been a rich reward.\" Hale did not expect, nor did he care, to be a hero. He had no thought of reward or of promotion. He sacrificed his life from a pure sense of what he thought to be his duty. Read more stories about great Americans in our collection of American Biographies for Kids \n",
      "\n",
      "\t\n",
      "\n",
      "\t\n",
      "\n",
      "\t\n",
      "\n",
      "\t8.5\n",
      "\n",
      "\t\n",
      "\n",
      "\t\n",
      "\n",
      "\t\n",
      "\n",
      "\t\n",
      "\n",
      "\t\n",
      "\n",
      "\t\n",
      "\n",
      "\t\n",
      "\n",
      "\t\n",
      "\n",
      "\t\n",
      "\n",
      "\t\n",
      "\n",
      "\t\n",
      "\n",
      "\t\n",
      "\n",
      "\t\n",
      "\n",
      "\t\n",
      "\n",
      "\t Add  The Patriot Spy to your library.\n",
      "\n",
      "\t\n",
      "\n",
      "\t\n",
      "\n",
      "\t\n",
      "\n",
      "\t\n",
      "\n",
      "\tReturn to the Albert F. Blaisdell library\n",
      "\n",
      "\t\n",
      "\n",
      "\tOr read more short stories for kids in our Children's Library\n",
      "\n",
      "\t\n",
      "\n",
      "\t\n",
      "\n",
      "\t \n",
      "\n",
      "\t\n",
      "\n",
      "\t Add  The Patriot Spy to your library.\n",
      "\n",
      "\t\n",
      "\n",
      "\t\n",
      "\n",
      "\t\n",
      "\n",
      "\t\n",
      "\n",
      "\tReturn to the Albert F. Blaisdell library\n",
      "\n",
      "\t\n",
      "\n",
      "\tOr read more short stories for kids in our Children's Library\n",
      "\n",
      "\t\n",
      "\n",
      "\t\n",
      "\n",
      "\t \n",
      "\n",
      "\t\n",
      "\n",
      "\t\n",
      "\n",
      "\tReturn to the Albert F. Blaisdell library\n",
      "\n",
      "\t\n",
      "\n",
      "\tOr read more short stories for kids in our Children's Library\n",
      "\n",
      "\t\n",
      "\n",
      "\t\n",
      "\n",
      "\t \n",
      "\n",
      "\tReturn to the Albert F. Blaisdell library\n",
      "\n",
      "\t\n",
      "\n",
      "\tOr read more short stories for kids in our Children's Library\n",
      "\n",
      "\t\n",
      "\n",
      "\t \n",
      "\n",
      "\tOr read more short stories for kids in our Children's Library\n",
      "\n",
      "\t\n",
      "Story saved at: ./dataset/short story/the patriot spy/story.txt\n",
      "short story/the first thanksgiving\n",
      "[A story of the time long ago when the Pilgrims of Plymouth invited the Indian chief Massasoit and his followers to share their feast.]  ALL through the first summer and the early part of autumn the Pilgrims were busy and happy. They had planted and cared for their first fields of corn. They had found wild strawberries in the meadows, raspberries on the hillsides, and wild grapes in the woods. In the forest just back of the village wild turkeys and deer were easily shot. In the shallow waters of the bay there was plenty of fish, clams, and lobsters. The summer had been warm, with a good deal of rain and much sunshine; and so when the autumn came there was a fine crop of corn. \"Let us gather the fruits of our first labours and rejoice together,\" said Governor Bradford. \"Yes,\" said Elder Brewster, \"let us take a day upon which we may thank God for all our blessings, and invite to it our Indian friends who have been so kind to us.\" The Pilgrims said that one day was not enough; so they planned to have a celebration for a whole week. This took place most likely in October. The great Indian chief, Massasoit, came with ninety of his bravest warriors, all gayly dressed in deerskins, feathers, and foxtails, with their faces smeared with red, white, and yellow paint. As a sign of rank, Massasoit wore round his neck a string of bones and a bag of tobacco. In his belt he carried a long knife. His face was painted red, and his hair was so daubed with oil that Governor Bradford said he \"looked greasily.\" Now there were only eleven buildings in the whole of Plymouth village, four log storehouses and seven little log dwelling-houses; so the Indian guests ate and slept out of doors. This was no matter, for it was one of those warm weeks in the season we call Indian summer. To supply meat for the occasion four men had already been sent out to hunt wild turkeys. They killed enough in one day to last the whole company almost a week. Massasoit helped the feast along by sending some of his best hunters into the woods. They killed five deer, which they gave to their paleface friends, that all might have enough to eat. Under the trees were built long, rude tables on which were piled baked clams, broiled fish, roast turkey, and deer meat. The young Pilgrim women helped serve the food to the hungry redskins. Let us remember two of the fair girls who waited on the tables. One was Mary Chilton, who leaped from the boat at Plymouth Rock; the other was Mary Allerton. She lived for seventy-eight years after this first Thanksgiving, and of those who came over in the Mayflower she was the last to die. What a merry time everybody had during that week! It may be they joked Governor Bradford about stepping into a deer trap set by the Indians and being jerked up by the leg. How the women must have laughed as they told about the first Monday morning at Cape Cod, when they all went ashore to wash their clothes! It must have been a big washing, for there had been no chance to do it at sea, so stormy had been the long voyage of sixty-three days. They little thought that Monday would afterward be kept as washday. Then there was young John Howland, who in mid-ocean fell overboard but was quick enough to catch hold of a trailing rope. Perhaps after dinner he invited Elizabeth Tilley, whom he afterward married, to sail over to Clarke's Island and return by moonlight. With them, it may be, went John Alden and Priscilla Mullins, whose love story is so sweetly told by Longfellow. One proud mother, we may be sure, showed her bright-eyed boy, Peregrine White. And so the fun went on. In the daytime the young men ran races, played games, and had a shooting match. Every night the Indians sang and danced for their friends; and to make things still more lively they gave every now and then a shrill war whoop that made the woods echo in the still night air. The Indians had already learned to love and fear Captain Miles Standish. Some of them called him \"Boiling Water\" because he was easily made angry. Others called him \"Captain Shrimp,\" on account of his small size. Every morning the shrewd captain put on his armour and paraded his little company of a dozen or more soldiers; and when he fired off the cannon on Burial Hill the Indians must have felt that the English were men of might thus to harness up thunder and lightning. During this week of fun and frolic it was a wonder if young Jack Billington did not play some prank on the Indians. He was the boy who fired off his father's gun one day, close to a keg of gunpowder, in the crowded cabin of the Mayflower. The third day came. Massasoit had been well treated, and no doubt would have liked to stay longer, but he had said he could stay only three days. So the pipe of peace was silently passed around. Then, taking their presents of glass beads and trinkets, the Indian king and his warriors said farewell to their English friends and began their long tramp through the woods to their wigwams on Mount Hope Bay. On the last day of this Thanksgiving party the Pilgrims had a service of prayer and praise. Elder Brewster preached the first Thanksgiving sermon. After thanking God for all his goodness, he did not forget the many loved ones sleeping on the hillside. He spoke of noble John Carver, the first governor, who had died of worry and overwork. Nor was Rose Standish forgotten, the lovely young wife of Captain Miles Standish, whose death was caused by cold and lack of good food. And then there was gentle Dorothy, wife of Governor Bradford, who had fallen overboard from the Mayflower in Provincetown harbour while her husband was coasting along the bleak shore in search of a place for a home. The first Thanksgiving took place nearly three hundred years ago. Since that time, almost without interruption, Thanksgiving has been kept by the people of New England as the great family festival of the year. At this time children and grandchildren return to the old home, the long table is spread, and brothers and sisters, separated often by many miles, again sit side by side. To-day Thanksgiving is observed in nearly all the states of the Union, a season of sweet and blessed memories. Visit our collection of Thanksgiving Stories for more stories celebrating this holiday. You may also enjoy reading The First Christmas of New England by Harriet Beecher Stowe    Return to the Albert F. Blaisdell library , or . . . Read the next short story; The Patriot Spy Or read more short stories for kids in our Children's Library\n",
      "Story saved at: ./dataset/short story/the first thanksgiving/story.txt\n",
      "book/songs of experience/summary\n",
      "Introduction Earth's Answer The Clod and the Pebble Holy Thursday The Little Girl Lost The Little Girl Found The Chimney Sweeper Nurse's Song The Sick Rose The Fly The Angel The Tyger My Pretty Rose Tree Ah! Sun-flower The Lily The Garden of Love The Little Vagabond London The Human Abstract Infant Sorrow A Poison Tree A Little Boy Lost A Little Girl Lost To Tirzah The Schoolboy The Voice of the Ancient Bard \n",
      "\n",
      "\tReturn to the William Blake library.\n",
      "\n",
      "\t\n",
      "Story saved at: ./dataset/book/songs of experience/summary/story.txt\n",
      "book/songs of innocence/summary\n",
      "The verses in Songs of Innocence are about children or written from a child's perspective. In 1794, Blake went on to publish Songs of Experience as a companion to this volume. Introduction The Shepherd The Echoing Green The Lamb The Little Black Boy The Blossom The Chimney Sweeper The Little Boy Lost The Little Boy Found Laughing Song A Cradle Song The Divine Image Holy Thursday Night Spring Nurse's Song Infant Joy A Dream On Another's Sorrow \n",
      "\n",
      "\tReturn to the William Blake library.\n",
      "\n",
      "\t\n",
      "Story saved at: ./dataset/book/songs of innocence/summary/story.txt\n",
      "poem/a poison tree\n",
      "Featured in our selection of Poetry for Students.    Return to the William Blake library , or . . . Read the next poem; The Echoing Green\n",
      "Story saved at: ./dataset/poem/a poison tree/story.txt\n",
      "poem/the echoing green\n",
      "Featured in our selection of Children's Poems.    Return to the William Blake library , or . . . Read the next poem; The Song of Los Or read more short stories for kids in our Children's Library\n",
      "Story saved at: ./dataset/poem/the echoing green/story.txt\n",
      "poem/the song of los\n",
      "   Return to the William Blake library\n",
      "Story saved at: ./dataset/poem/the song of los/story.txt\n",
      "short story/federigos falcon\n",
      "There was once in Florence a young man named Federigo, the son of Messer Filippo Alberighi, renowned above all other men in Tuscany for his prowess in arms and for his courtliness. As often happens to most gentlemen, he fell in love with a lady named Monna Giovanna, in her day considered to be one of the most beautiful and one of the most charming women that ever there was in Florence; and in order to win her love, he participated in jousts and tournaments, organized and gave feasts, and spent his money without restraint; but she, no less virtuous than beautiful, cared little for these things done on her behalf, nor did she care for him who did them. Now, as Federigo was spending far beyond his means and was taking nothing in, as easily happens he lost his wealth and became poor, with nothing but his little farm to his name (from whose revenues he lived very meagerly) and one falcon which was among the best in the world. More in love than ever, but knowing that he would never be able to live the way he wished to in the city, he went to live at Campi, where his farm was. There he passed his time hawking whenever he could, asked nothing of anyone, and endured his poverty patiently. Now, during the time that Federigo was reduced to dire need, it happened that the husband of Monna Giovanna fell ill, and realizing death was near, he made his last will. He was very rich, and he made his son, who was growing up, his heir, and, since he had loved Monna Giovanna very much, he made her his heir should his son die without a legitimate heir; and then he died. Monna Giovanna was now a widow, and as is the custom among our women, she went to the country with her son to spend a year on one of her possessions very close by to Federigo’s farm, and it happened that this young boy became friends with Federigo and began to enjoy birds and hunting dogs; and after he had seen Federigo’s falcon fly many times, it pleased him so much that he very much wished it were his own, but he did not dare to ask for it, for he could see how dear it was to Federigo. And during this time, it happened that the young boy took ill, and his mother was much grieved, for he was her only child and she loved him enormously. She would spend the entire day by his side, never ceasing to comfort him, and often asking him if there was anything he desired, begging him to tell her what it might be, for if it were possible to obtain it, she would certainly do everything possible to get it. After the young boy had heard her make this offer many times, he said: “Mother, if you can arrange for me to have Federigo’s falcon, I think I would be well very soon.” When the lady heard this, she was taken aback for a moment, and she began to think what she should do. She knew that Federigo had loved her for a long while, in spite of the fact that he never received a single glance from her, and so, she said to herself: “How can I send or go and ask for this falcon of his which is, as I have heard tell, the best that ever flew, and besides this, his only means of support? And how can I be so insensitive as to wish to take away from this gentleman the only pleasure which is left to him?” And involved in these thoughts, knowing that she was certain to have the bird if she asked for it, but not knowing what to say to her son, she stood there without answering him. Finally the love she bore her son persuaded her that she should make him happy, and no matter what the consequences might be, she would not send for the bird, but rather go herself for it and bring it back to him; so she answered her son: “My son, take comfort and think only of getting well, for I promise you that the first thing I shall do tomorrow morning is to go for it and bring it back to you.” The child was so happy that he showed some improvement that very day. The following morning, the lady, accompanied by another woman, as if going for a stroll, went to Federigo’s modest house and asked for him. Since it was not the season for it, Federigo had not been hawking for some days and was in his orchard, attending to certain tasks. When he heard that Monna Giovanna was asking for him at the door, he was very surprised and happy to run there. As she saw him coming, she greeted him with feminine charm, and once Federigo had welcomed her courteously, she said: “Greetings, Federigo!” Then she continued: “I have come to compensate you for the harm you have suffered on my account by loving me more than you needed to; and the compensation is this: I, along with this companion of mine, intend to dine with you—a simple meal—this very day.” To this Federigo humbly replied: “Madonna, I never remember having suffered any harm because of you. On the contrary, so much good have I received from you that if ever I have been worth anything, it has been because of your merit and the love I bore for you; and your generous visit is certainly so dear to me that I would spend all over again that which I spent in the past; but you have come to a poor host.” And having said this, he received her into his home humbly, and from there he led her into his garden, and since he had no one there to keep her company, he said: “My lady, since there is no one else, this good woman here, the wife of this workman, will keep you company while I go to set the table.” Though he was very poor, Federigo, until now, had never before realized to what extent he had wasted his wealth; but this morning, the fact that he found nothing with which he could honor the lady for the love of whom he had once entertained countless men in the past gave him cause to reflect. In great anguish, he cursed himself and his fortune and, like a man beside himself, he started running here and there, but could find neither money nor a pawnable object. The hour was late and his desire to honor the gracious lady was great, but not wishing to turn for help to others (not even to his own workman), he set his eyes upon his good falcon, perched in a small room; and since he had nowhere else to turn, he took the bird, and finding it plump, he decided that it would be a worthy food for such a lady. So, without further thought, he wrung its neck and quickly gave it to his servant girl to pluck, prepare, and place on a spit to be roasted with care; and when he had set the table with the whitest of tablecloths (a few of which he still had left), he returned, with a cheerful face, to the lady in his garden, saying that the meal he was able to prepare for her was ready. The lady and her companion rose, went to the table together with Federigo, who waited upon them with the greatest devotion, and they ate the good falcon without knowing what it was they were eating. And having left the table and spent some time in pleasant conversation, the lady thought it time now to say what she had come to say, and so she spoke these kind words to Federigo: “Federigo, if you recall your past life and my virtue, which you perhaps mistook for harshness and cruelty, I do not doubt at all that you will be amazed by my presumption when you hear what my main reason for coming here is; but if you had children, through whom you might have experienced the power of parental love, it seems certain to me that you would, at least in part, forgive me. But, just as you have no child, I do have one, and I cannot escape the common laws of other mothers; the force of such laws compels me to follow them, against my own will and against good manners and duty, and to ask of you a gift which I know is most precious to you; and it is naturally so, since your extreme condition has left you no other delight, no other pleasure, no other consolation; and this gift is your falcon, which my son is so taken by that if I do not bring it to him, I fear his sickness will grow so much worse that I may lose him. And therefore I beg you, not because of the love that you bear for me, which does not oblige you in the least, but because of your own nobility, which you have shown to be greater than that of all others in practicing courtliness, that you be pleased to give it to me, so that I may say that I have saved the life of my son by means of this gift, and because of it I have placed him in your debt forever.” When he heard what the lady requested and knew that he could not oblige her since he had given her the falcon to eat, Federigo began to weep in her presence, for he could not utter a word in reply. The lady, at first, thought his tears were caused more by the sorrow of having to part with the good falcon than by anything else, and she was on the verge of telling him she no longer wished it, but she held back and waited for Federigo’s reply after he stopped weeping. And he said: “My lady, ever since it pleased God for me to place my love in you, I have felt that Fortune has been hostile to me in many things, and I have complained of her, but all this is nothing compared to what she has just done to me, and I must never be at peace with her again, thinking about how you have come here to my poor home where, while it was rich, you never deigned to come, and you requested a small gift, and Fortune worked to make it impossible for me to give it to you; and why this is so I shall tell you briefly. When I heard that you, out of your kindness, wished to dine with me, I considered it fitting and right, taking into account your excellence and your worthiness, that I should honor you, according to my possibilities, with a more precious food than that which I usually serve to other people; therefore, remembering the falcon that you requested and its value, I judged it a food worthy of you, and this very day you had it roasted and served to you as best I could; but seeing now that you desired it in another way, my sorrow in not being able to serve you is so great that I shall never be able to console myself again.” And after he had said this, he laid the feathers, the feet, and the beak of the bird before her as proof. When the lady heard and saw this, she first reproached him for having killed such a falcon to serve as a meal to a woman; but then to herself she commended the greatness of his spirit, which no poverty was able or would be able to diminish; then, having lost all hope of getting the falcon and, perhaps because of this, of improving the health of her son as well, she thanked Federigo both for the honor paid to her and for his good will, and she left in grief, and returned to her son. To his mother’s extreme sorrow, either because of his disappointment that he could not have the falcon, or because his illness must have necessarily led to it, the boy passed from this life only a few days later. After the period of her mourning and bitterness had passed, the lady was repeatedly urged by her brothers to remarry, since she was very rich and was still young; and although she did not wish to do so, they became so insistent that she remembered the merits of Federigo and his last act of generosity—that is, to have killed such a falcon to do her honor—and she said to her brothers: “I would prefer to remain a widow, if that would please you; but if you wish me to take a husband, you may rest assured that I shall take no man but Federigo degli Alberighi.” In answer to this, making fun of her, her brothers replied: “You foolish woman, what are you saying? How can you want him; he hasn’t a penny to his name?” To this she replied: “My brothers, I am well aware of what you say, but I would rather have a man who needs money than money that needs a man.” Her brothers, seeing that she was determined and knowing Federigo to be of noble birth, no matter how poor he was, accepted her wishes and gave her in marriage to him with all her riches. When he found himself the husband of such a great lady, whom he had loved so much and who was so wealthy besides, he managed his financial affairs with more prudence than in the past and lived with her happily the rest of his days. Frederigo's Falcon is a featured in our collection of Short Stories for Middle School. It is one of many short stories that feature an ironic or confounding event. O. Henry's The Gift of the Magi and Guy de Maupassant's The Necklace are great works to compare the authors' use of irony.    Return to the Giovanni Boccaccio library\n",
      "Story saved at: ./dataset/short story/federigos falcon/story.txt\n",
      "book/the life of samuel johnson/summary\n",
      "An introduction to The Life of Samuel Johnson would be incomplete without Boswell's appropriately precise subtitle: \"Comprehending an Accounting of His Studies and Numerous Works, in Chronological order; A Series of his Epistolary Correspondence and Conversations with Many Eminent Persons; and Various Original Pieces of His Composition, Never Before Published: The Whole Exhibiting a View of Literature and Literary Men in Great-Britain, for Near Half a Century, During Which He Flourished.\" Boswell's dedication was to Sir Joshua Reynolds in his first edition published in 1791. By the third edition, edited by George Birkbeck Hill, D.C.L., it was revised and augmented into four volumes. Though Boswell published numerous biographies and travel guides, his writings about Samuel Johnson are considered his finest. He published Boswell's Life of Johnson, which includes The Journal of a Tour to the Hebrides with Samuel Johnson, LL.D. (1785), and The Life of Samuel Johnson, LL.D. (1791). We chose the abridged version edited by Charles Grosvenor Osgood (1917) for our readers' enjoyment. We have added chapter divisions to allow reading in multiple sittings. Dedication to Sir Joshua Reynolds Preface Introduction Had Doctor Johnson written his own life The Bishop of Dromore observes in a letter to me To the Reverend Mr. Colson To the Reverend Dr. Taylor To Bennet Langton, Esq., At Langton, Near Spilsby, Lincolnshire  To Mr. Frances Barber Compliments to Miss Reynolds Newcastle, Aug. 11, 1773 On Friday, April 12th, I dined with him at my friend Tom Davies's To Dr. Dodd To Dr. Johnson Dr. Johnson to Mrs. Boswell To Mr. Thomas Davies \n",
      "\n",
      "\tReturn to the James Boswell library.\n",
      "\n",
      "\t\n",
      "Story saved at: ./dataset/book/the life of samuel johnson/summary/story.txt\n"
     ]
    }
   ],
   "source": [
    "try:\n",
    "    for link in author_links[56:60]:\n",
    "        sub_stories_link = []\n",
    "        name = link.replace(\"/author/\", '')\n",
    "        main_url = f'https://americanliterature.com/author/{name}'\n",
    "        sub_story_links = get_story_links_sub(main_url, name)\n",
    "        for sub_link in sub_story_links:\n",
    "            if sub_link.startswith(f'{name}/'):                \n",
    "                story_name = sub_link.replace(f'{name}/', '')\n",
    "                story_name = story_name.replace('-', ' ')\n",
    "                print(story_name)\n",
    "                sub_link = f\"https://americanliterature.com/author/{sub_link}/\"\n",
    "                story_text = scrape_story(sub_link)\n",
    "                # print(story_text)\n",
    "                file_path = save_story_as_text_file(story_name, story_text, file_directory)\n",
    "                print(f\"Story saved at: {file_path}\")\n",
    "            else:\n",
    "                continue\n",
    "        \n",
    "except:\n",
    "    print(\"error in\", link)"
   ]
  },
  {
   "cell_type": "code",
   "execution_count": 24,
   "metadata": {},
   "outputs": [
    {
     "data": {
      "text/plain": [
       "'/author/james-baldwin'"
      ]
     },
     "execution_count": 24,
     "metadata": {},
     "output_type": "execute_result"
    }
   ],
   "source": []
  },
  {
   "cell_type": "code",
   "execution_count": 50,
   "metadata": {},
   "outputs": [
    {
     "name": "stdout",
     "output_type": "stream",
     "text": [
      "The number of folders in 'short_story' is: 374\n",
      "The number of folders in 'fairy_tale' is: 219\n"
     ]
    }
   ],
   "source": [
    "import os\n",
    "\n",
    "def count_folders(path):\n",
    "    # Get the list of all items in the directory\n",
    "    all_items = os.listdir(path)\n",
    "\n",
    "    # Filter out only the directories\n",
    "    folders = [item for item in all_items if os.path.isdir(os.path.join(path, item))]\n",
    "\n",
    "    # Return the number of folders\n",
    "    return len(folders)\n",
    "\n",
    "# Example usage:\n",
    "folder_path = \"./clean_dataset\"\n",
    "\n",
    "for folder in os.listdir(folder_path):\n",
    "    if not folder.startswith('.DS_Store'):\n",
    "        num_folders = count_folders(folder_path+\"/\"+folder)\n",
    "        print(f\"The number of folders in '{folder}' is: {num_folders}\")"
   ]
  },
  {
   "cell_type": "code",
   "execution_count": 42,
   "metadata": {},
   "outputs": [],
   "source": [
    "#clean fairy tales dataset\n",
    "base_path = \"./dataset/fairy tale\"\n",
    "for folder in os.listdir(base_path):\n",
    "    if not folder.startswith('.DS_Store'):\n",
    "        with open(base_path+\"/\"+folder+'/story.txt', 'r') as file:\n",
    "            file_contents = file.read()\n",
    "            \n",
    "        marker_position = file_contents.find(\"Return to the The\")\n",
    "        if marker_position != -1:\n",
    "            story_text = file_contents[:marker_position]\n",
    "        else:\n",
    "            story_text = file_contents\n",
    "            \n",
    "        new_file_path = \"./clean_dataset/fairy_tale/\"+ folder+\"/story.txt\"\n",
    "        new_folder = \"./clean_dataset/fairy_tale/\"+ folder\n",
    "        os.makedirs(new_folder, exist_ok=True)\n",
    "        with open(new_file_path, 'w') as new_file:\n",
    "            new_file.write(story_text)\n"
   ]
  },
  {
   "cell_type": "code",
   "execution_count": 49,
   "metadata": {},
   "outputs": [],
   "source": [
    "# clean short story dataset\n",
    "base_path = \"./dataset/short story\"\n",
    "for folder in os.listdir(base_path):\n",
    "    if not folder.startswith('.DS_Store'):\n",
    "        with open(base_path+\"/\"+folder+'/story.txt', 'r') as file:\n",
    "            file_contents = file.read()\n",
    "            \n",
    "\n",
    "        marker_position1 = file_contents.find(\"Add  A\")\n",
    "        marker_position2 = file_contents.find(\"Read the next short story\")\n",
    "        marker_position3 = file_contents.find(\"Return to the The\")\n",
    "        \n",
    "        valid_positions = [pos for pos in [marker_position1, marker_position2, marker_position3] if pos != -1]\n",
    "        \n",
    "        if len(valid_positions) == 0:\n",
    "            story_text = file_contents\n",
    "            \n",
    "        else:\n",
    "            marker_position = min(valid_positions)\n",
    "            story_text = file_contents[:marker_position]\n",
    "            \n",
    "        new_file_path = \"./clean_dataset/short_story/\"+ folder+\"/story.txt\"\n",
    "        new_folder = \"./clean_dataset/short_story/\"+ folder\n",
    "        os.makedirs(new_folder, exist_ok=True)\n",
    "        with open(new_file_path, 'w') as new_file:\n",
    "            new_file.write(story_text)"
   ]
  },
  {
   "cell_type": "code",
   "execution_count": 48,
   "metadata": {},
   "outputs": [
    {
     "data": {
      "text/plain": [
       "4202"
      ]
     },
     "execution_count": 48,
     "metadata": {},
     "output_type": "execute_result"
    }
   ],
   "source": [
    "\"Return to the The\"\n",
    "\"Read the next short story\"\n",
    "min([4202])"
   ]
  },
  {
   "cell_type": "code",
   "execution_count": 7,
   "metadata": {},
   "outputs": [
    {
     "name": "stdout",
     "output_type": "stream",
     "text": [
      "1382.7351598173516\n"
     ]
    }
   ],
   "source": [
    "#average story length\n",
    "import os\n",
    "word_lengths =[]\n",
    "\n",
    "base_path = \"../data/clean_dataset/fairy_tale\"\n",
    "for folder in os.listdir(base_path):\n",
    "    if not folder.startswith('.DS_Store'):\n",
    "        with open(base_path+\"/\"+folder+'/story.txt', 'r') as file:\n",
    "            file_contents = file.read()\n",
    "        \n",
    "        words = file_contents.split(\" \")\n",
    "        word_lengths.append(len(words))\n",
    "        \n",
    "print(sum(word_lengths)/len(word_lengths))"
   ]
  },
  {
   "cell_type": "code",
   "execution_count": 10,
   "metadata": {},
   "outputs": [
    {
     "name": "stdout",
     "output_type": "stream",
     "text": [
      "(355, 3)\n"
     ]
    }
   ],
   "source": [
    "#average segment length\n",
    "\n",
    "import pandas as pd\n",
    "\n",
    "df = pd.read_csv(\"../evaluation_data/baseline1/experiment_samit_short_story_segmented/df_images.csv\")\n",
    "print(df.shape)\n",
    "\n"
   ]
  },
  {
   "cell_type": "code",
   "execution_count": 11,
   "metadata": {},
   "outputs": [
    {
     "data": {
      "text/plain": [
       "14.2"
      ]
     },
     "execution_count": 11,
     "metadata": {},
     "output_type": "execute_result"
    }
   ],
   "source": [
    "355/25"
   ]
  },
  {
   "cell_type": "code",
   "execution_count": null,
   "metadata": {},
   "outputs": [],
   "source": []
  }
 ],
 "metadata": {
  "kernelspec": {
   "display_name": "Python 3 (ipykernel)",
   "language": "python",
   "name": "python3"
  },
  "language_info": {
   "codemirror_mode": {
    "name": "ipython",
    "version": 3
   },
   "file_extension": ".py",
   "mimetype": "text/x-python",
   "name": "python",
   "nbconvert_exporter": "python",
   "pygments_lexer": "ipython3",
   "version": "3.11.3"
  }
 },
 "nbformat": 4,
 "nbformat_minor": 5
}
