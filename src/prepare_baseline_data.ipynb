{
 "cells": [
  {
   "cell_type": "code",
   "execution_count": 2,
   "metadata": {},
   "outputs": [],
   "source": [
    "import os\n",
    "import shutil\n",
    "import sys"
   ]
  },
  {
   "cell_type": "code",
   "execution_count": 15,
   "metadata": {},
   "outputs": [],
   "source": [
    "source_folder = \"clean_dataset/fairy_tale/\"\n",
    "destination_folder = \"short_stories/\"\n",
    "\n",
    "for dir_name in os.listdir(source_folder):\n",
    "    if not dir_name.startswith(\".DS_Store\"):\n",
    "        dir_path = os.path.join(source_folder, dir_name)\n",
    "        source_path = dir_path + \"/story.txt\"\n",
    "        dest_path = destination_folder+dir_name+\".txt\"\n",
    "        shutil.copy(source_path, dest_path)\n",
    "    "
   ]
  },
  {
   "cell_type": "code",
   "execution_count": 16,
   "metadata": {},
   "outputs": [],
   "source": [
    "for file_name in os.listdir(destination_folder):\n",
    "    file_path = os.path.join(destination_folder, file_name)\n",
    "    with open(file_path, 'r') as file:\n",
    "        file_content = file.read()\n",
    "    sentences = file_content.split('.')\n",
    "    with open(file_path, 'w') as output_file:\n",
    "        for sentence in sentences[:-1]:\n",
    "            output_file.write(sentence.strip() + '.\\n\\n')\n",
    "    \n",
    "    "
   ]
  },
  {
   "cell_type": "code",
   "execution_count": 7,
   "metadata": {},
   "outputs": [],
   "source": [
    "source_folder = \"clean_dataset/short_story/\"\n",
    "destination_folder = \"fairy_tales/\"\n",
    "\n",
    "for dir_name in os.listdir(source_folder):\n",
    "    if not dir_name.startswith(\".DS_Store\"):\n",
    "        dir_path = os.path.join(source_folder, dir_name)\n",
    "        source_path = dir_path + \"/story.txt\"\n",
    "        dest_path = destination_folder+dir_name+\".txt\"\n",
    "        shutil.copy(source_path, dest_path)\n",
    "    "
   ]
  },
  {
   "cell_type": "code",
   "execution_count": 8,
   "metadata": {},
   "outputs": [],
   "source": [
    "for file_name in os.listdir(destination_folder):\n",
    "    file_path = os.path.join(destination_folder, file_name)\n",
    "    with open(file_path, 'r') as file:\n",
    "        file_content = file.read()\n",
    "    sentences = file_content.split('.')\n",
    "    \n",
    "    #clean fairy_tales\n",
    "    clean_sentences = []\n",
    "    for sentence in sentences:\n",
    "        if(len(sentence)<5):\n",
    "            continue\n",
    "        if \"Return to the\" in sentence:\n",
    "            continue\n",
    "        if \"was featured\" in sentence:\n",
    "            continue\n",
    "        clean_sentences.append(sentence)\n",
    "    \n",
    "    with open(file_path, 'w') as output_file:\n",
    "        for sentence in clean_sentences[:-1]:\n",
    "            output_file.write(sentence.strip() + '.\\n\\n')"
   ]
  },
  {
   "cell_type": "code",
   "execution_count": null,
   "metadata": {},
   "outputs": [],
   "source": [
    "#more cleaning\n",
    "# for file_name in os.listdir(destination_folder):\n",
    "#     file_path = os.path.join(destination_folder, file_name)\n",
    "#     with open(file_path, 'r') as file:\n",
    "#         file_content = file.read()\n",
    "#     sentences = file_content.split('.')\n"
   ]
  }
 ],
 "metadata": {
  "kernelspec": {
   "display_name": "genaiproject",
   "language": "python",
   "name": "python3"
  },
  "language_info": {
   "codemirror_mode": {
    "name": "ipython",
    "version": 3
   },
   "file_extension": ".py",
   "mimetype": "text/x-python",
   "name": "python",
   "nbconvert_exporter": "python",
   "pygments_lexer": "ipython3",
   "version": "3.12.0"
  }
 },
 "nbformat": 4,
 "nbformat_minor": 2
}
